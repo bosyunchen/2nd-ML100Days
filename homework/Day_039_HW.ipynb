{
 "cells": [
  {
   "cell_type": "markdown",
   "metadata": {},
   "source": [
    "## [作業重點]\n",
    "清楚了解 L1, L2 的意義與差異為何，並了解 LASSO 與 Ridge 之間的差異與使用情境"
   ]
  },
  {
   "cell_type": "markdown",
   "metadata": {},
   "source": [
    "## 作業"
   ]
  },
  {
   "cell_type": "markdown",
   "metadata": {},
   "source": [
    "請閱讀相關文獻，並回答下列問題\n",
    "\n",
    "[脊回歸 (Ridge Regression)](https://blog.csdn.net/daunxx/article/details/51578787)\n",
    "[Linear, Ridge, Lasso Regression 本質區別](https://www.zhihu.com/question/38121173)\n",
    "\n",
    "1. LASSO 回歸可以被用來作為 Feature selection 的工具，請了解 LASSO 模型為什麼可用來作 Feature selection\n",
    "2. 當自變數 (X) 存在高度共線性時，Ridge Regression 可以處理這樣的問題嗎?\n"
   ]
  },
  {
   "cell_type": "markdown",
   "metadata": {},
   "source": [
    "1.LASSO模型的係數有機會shrinkage到0，達到Feature selection的作用\n",
    "2.可以，一般regression的參數解為: $$w=(\\mathbf{X}'\\mathbf{X})^{-1}\\mathbf{X}'Y$$ 若$\\mathbf{X}$存在高度共線性，$\\mathbf{X}'\\mathbf{X}$不是full rank，$(\\mathbf{X}'\\mathbf{X})^{-1}$會不存在；\n",
    "而Ridge Regression的解實際上也可寫成解析解: $$w=(\\mathbf{X}'\\mathbf{X}+\\alpha \\mathbf{I})^{-1}\\mathbf{X}'Y$$ 即便$\\mathbf{X}$存在高度共線性，$\\mathbf{X}'\\mathbf{X}$不是full rank，但因為加上了$\\alpha \\mathbf{I}$，使得$\\mathbf{X}'\\mathbf{X}+\\alpha\\mathbf{I}$變為full rank，$w$便有解，因此Ridge Regression可以處理這樣的問題。\n"
   ]
  },
  {
   "cell_type": "code",
   "execution_count": null,
   "metadata": {},
   "outputs": [],
   "source": []
  }
 ],
 "metadata": {
  "kernelspec": {
   "display_name": "Python 3",
   "language": "python",
   "name": "python3"
  },
  "language_info": {
   "codemirror_mode": {
    "name": "ipython",
    "version": 3
   },
   "file_extension": ".py",
   "mimetype": "text/x-python",
   "name": "python",
   "nbconvert_exporter": "python",
   "pygments_lexer": "ipython3",
   "version": "3.7.3"
  }
 },
 "nbformat": 4,
 "nbformat_minor": 2
}
