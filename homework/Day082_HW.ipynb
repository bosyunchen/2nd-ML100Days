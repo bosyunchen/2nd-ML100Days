{
 "cells": [
  {
   "cell_type": "markdown",
   "metadata": {},
   "source": [
    "## Work\n",
    "1. 請比較使用不同層數以及不同 Dropout rate 對訓練的效果\n",
    "2. 將 optimizer 改成使用 Adam 並加上適當的 dropout rate 檢視結果"
   ]
  },
  {
   "cell_type": "code",
   "execution_count": 1,
   "metadata": {},
   "outputs": [
    {
     "name": "stderr",
     "output_type": "stream",
     "text": [
      "Using TensorFlow backend.\n"
     ]
    }
   ],
   "source": [
    "import os\n",
    "import keras\n",
    "import itertools\n",
    "# Disable GPU\n",
    "os.environ[\"CUDA_VISIBLE_DEVICES\"] = \"\""
   ]
  },
  {
   "cell_type": "code",
   "execution_count": 2,
   "metadata": {},
   "outputs": [],
   "source": [
    "train, test = keras.datasets.cifar10.load_data()"
   ]
  },
  {
   "cell_type": "code",
   "execution_count": 3,
   "metadata": {},
   "outputs": [],
   "source": [
    "## 資料前處理\n",
    "def preproc_x(x, flatten=True):\n",
    "    x = x / 255.\n",
    "    if flatten:\n",
    "        x = x.reshape((len(x), -1))\n",
    "    return x\n",
    "\n",
    "def preproc_y(y, num_classes=10):\n",
    "    if y.shape[-1] == 1:\n",
    "        y = keras.utils.to_categorical(y, num_classes)\n",
    "    return y    "
   ]
  },
  {
   "cell_type": "code",
   "execution_count": 4,
   "metadata": {},
   "outputs": [],
   "source": [
    "x_train, y_train = train\n",
    "x_test, y_test = test\n",
    "\n",
    "# Preproc the inputs\n",
    "x_train = preproc_x(x_train)\n",
    "x_test = preproc_x(x_test)\n",
    "\n",
    "# Preprc the outputs\n",
    "y_train = preproc_y(y_train)\n",
    "y_test = preproc_y(y_test)"
   ]
  },
  {
   "cell_type": "code",
   "execution_count": 5,
   "metadata": {},
   "outputs": [],
   "source": [
    "from keras.layers import Dropout\n",
    "\n",
    "\"\"\"\n",
    "建立神經網路，並加入 dropout layer\n",
    "\"\"\"\n",
    "def build_mlp(input_shape, output_units=10, num_neurons=[512, 256, 128], drp_ratio=0.2):\n",
    "    input_layer = keras.layers.Input(input_shape)\n",
    "    \n",
    "    for i, n_units in enumerate(num_neurons):\n",
    "        if i == 0:\n",
    "            x = keras.layers.Dense(units=n_units, \n",
    "                                   activation=\"relu\", \n",
    "                                   name=\"hidden_layer\"+str(i+1))(input_layer)\n",
    "            x = Dropout(drp_ratio)(x)\n",
    "        else:\n",
    "            x = keras.layers.Dense(units=n_units, \n",
    "                                   activation=\"relu\", \n",
    "                                   name=\"hidden_layer\"+str(i+1))(x)\n",
    "            x = Dropout(drp_ratio)(x)\n",
    "    \n",
    "    out = keras.layers.Dense(units=output_units, activation=\"softmax\", name=\"output\")(x)\n",
    "    \n",
    "    model = keras.models.Model(inputs=[input_layer], outputs=[out])\n",
    "    return model"
   ]
  },
  {
   "cell_type": "code",
   "execution_count": 6,
   "metadata": {},
   "outputs": [],
   "source": [
    "## 超參數設定\n",
    "LEARNING_RATE = 1e-3\n",
    "EPOCHS = 50\n",
    "BATCH_SIZE = 256\n",
    "MOMENTUM = 0.95\n",
    "Dropout_EXP = 0.4"
   ]
  },
  {
   "cell_type": "code",
   "execution_count": 7,
   "metadata": {
    "scrolled": true
   },
   "outputs": [
    {
     "name": "stdout",
     "output_type": "stream",
     "text": [
      "WARNING:tensorflow:From D:\\Anaconda3\\lib\\site-packages\\tensorflow\\python\\framework\\op_def_library.py:263: colocate_with (from tensorflow.python.framework.ops) is deprecated and will be removed in a future version.\n",
      "Instructions for updating:\n",
      "Colocations handled automatically by placer.\n",
      "WARNING:tensorflow:From D:\\Anaconda3\\lib\\site-packages\\keras\\backend\\tensorflow_backend.py:3445: calling dropout (from tensorflow.python.ops.nn_ops) with keep_prob is deprecated and will be removed in a future version.\n",
      "Instructions for updating:\n",
      "Please use `rate` instead of `keep_prob`. Rate should be set to `rate = 1 - keep_prob`.\n",
      "_________________________________________________________________\n",
      "Layer (type)                 Output Shape              Param #   \n",
      "=================================================================\n",
      "input_1 (InputLayer)         (None, 3072)              0         \n",
      "_________________________________________________________________\n",
      "hidden_layer1 (Dense)        (None, 512)               1573376   \n",
      "_________________________________________________________________\n",
      "dropout_1 (Dropout)          (None, 512)               0         \n",
      "_________________________________________________________________\n",
      "hidden_layer2 (Dense)        (None, 256)               131328    \n",
      "_________________________________________________________________\n",
      "dropout_2 (Dropout)          (None, 256)               0         \n",
      "_________________________________________________________________\n",
      "hidden_layer3 (Dense)        (None, 128)               32896     \n",
      "_________________________________________________________________\n",
      "dropout_3 (Dropout)          (None, 128)               0         \n",
      "_________________________________________________________________\n",
      "output (Dense)               (None, 10)                1290      \n",
      "=================================================================\n",
      "Total params: 1,738,890\n",
      "Trainable params: 1,738,890\n",
      "Non-trainable params: 0\n",
      "_________________________________________________________________\n",
      "WARNING:tensorflow:From D:\\Anaconda3\\lib\\site-packages\\tensorflow\\python\\ops\\math_ops.py:3066: to_int32 (from tensorflow.python.ops.math_ops) is deprecated and will be removed in a future version.\n",
      "Instructions for updating:\n",
      "Use tf.cast instead.\n",
      "Train on 50000 samples, validate on 10000 samples\n",
      "Epoch 1/50\n",
      "50000/50000 [==============================] - 45s 899us/step - loss: 2.1310 - acc: 0.2010 - val_loss: 1.9311 - val_acc: 0.2943\n",
      "Epoch 2/50\n",
      "50000/50000 [==============================] - 30s 603us/step - loss: 1.9932 - acc: 0.2535 - val_loss: 1.8954 - val_acc: 0.3313\n",
      "Epoch 3/50\n",
      "50000/50000 [==============================] - 29s 587us/step - loss: 1.9596 - acc: 0.2691 - val_loss: 1.8867 - val_acc: 0.3275\n",
      "Epoch 4/50\n",
      "50000/50000 [==============================] - 29s 583us/step - loss: 1.9263 - acc: 0.2837 - val_loss: 1.8592 - val_acc: 0.3500\n",
      "Epoch 5/50\n",
      "50000/50000 [==============================] - 42s 834us/step - loss: 1.9003 - acc: 0.2962 - val_loss: 1.8619 - val_acc: 0.3477\n",
      "Epoch 6/50\n",
      "50000/50000 [==============================] - 35s 707us/step - loss: 1.8920 - acc: 0.3021 - val_loss: 1.8553 - val_acc: 0.3517\n",
      "Epoch 7/50\n",
      "50000/50000 [==============================] - 29s 580us/step - loss: 1.8716 - acc: 0.3127 - val_loss: 1.8246 - val_acc: 0.3587\n",
      "Epoch 8/50\n",
      "50000/50000 [==============================] - 29s 581us/step - loss: 1.8621 - acc: 0.3153 - val_loss: 1.8173 - val_acc: 0.3644\n",
      "Epoch 9/50\n",
      "50000/50000 [==============================] - 29s 583us/step - loss: 1.8487 - acc: 0.3190 - val_loss: 1.8124 - val_acc: 0.3643\n",
      "Epoch 10/50\n",
      "50000/50000 [==============================] - 40s 808us/step - loss: 1.8455 - acc: 0.3204 - val_loss: 1.8042 - val_acc: 0.3777\n",
      "Epoch 11/50\n",
      "50000/50000 [==============================] - 30s 605us/step - loss: 1.8411 - acc: 0.3217 - val_loss: 1.7943 - val_acc: 0.3691\n",
      "Epoch 12/50\n",
      "50000/50000 [==============================] - 29s 583us/step - loss: 1.8260 - acc: 0.3306 - val_loss: 1.7713 - val_acc: 0.3812\n",
      "Epoch 13/50\n",
      "50000/50000 [==============================] - 29s 589us/step - loss: 1.8325 - acc: 0.3319 - val_loss: 1.8257 - val_acc: 0.3707\n",
      "Epoch 14/50\n",
      "50000/50000 [==============================] - 42s 836us/step - loss: 1.8249 - acc: 0.3292 - val_loss: 1.8089 - val_acc: 0.3734\n",
      "Epoch 15/50\n",
      "50000/50000 [==============================] - 29s 580us/step - loss: 1.8094 - acc: 0.3380 - val_loss: 1.7944 - val_acc: 0.3700\n",
      "Epoch 16/50\n",
      "50000/50000 [==============================] - 29s 581us/step - loss: 1.8101 - acc: 0.3378 - val_loss: 1.7768 - val_acc: 0.3816\n",
      "Epoch 17/50\n",
      "50000/50000 [==============================] - 41s 828us/step - loss: 1.8071 - acc: 0.3390 - val_loss: 1.7323 - val_acc: 0.4003\n",
      "Epoch 18/50\n",
      "50000/50000 [==============================] - 29s 587us/step - loss: 1.7972 - acc: 0.3428 - val_loss: 1.7806 - val_acc: 0.3834\n",
      "Epoch 19/50\n",
      "50000/50000 [==============================] - 43s 860us/step - loss: 1.7920 - acc: 0.3442 - val_loss: 1.7717 - val_acc: 0.3937\n",
      "Epoch 20/50\n",
      "50000/50000 [==============================] - 42s 844us/step - loss: 1.7881 - acc: 0.3468 - val_loss: 1.7558 - val_acc: 0.3991\n",
      "Epoch 21/50\n",
      "50000/50000 [==============================] - 42s 832us/step - loss: 1.7829 - acc: 0.3511 - val_loss: 1.7866 - val_acc: 0.3789\n",
      "Epoch 22/50\n",
      "50000/50000 [==============================] - 29s 590us/step - loss: 1.7843 - acc: 0.3495 - val_loss: 1.7637 - val_acc: 0.3908\n",
      "Epoch 23/50\n",
      "50000/50000 [==============================] - 30s 593us/step - loss: 1.7865 - acc: 0.3476 - val_loss: 1.7392 - val_acc: 0.3982\n",
      "Epoch 24/50\n",
      "50000/50000 [==============================] - 36s 718us/step - loss: 1.7767 - acc: 0.3539 - val_loss: 1.7345 - val_acc: 0.4011\n",
      "Epoch 25/50\n",
      "50000/50000 [==============================] - 32s 632us/step - loss: 1.7759 - acc: 0.3530 - val_loss: 1.7397 - val_acc: 0.3927\n",
      "Epoch 26/50\n",
      "50000/50000 [==============================] - 35s 704us/step - loss: 1.7764 - acc: 0.3531 - val_loss: 1.7245 - val_acc: 0.4001\n",
      "Epoch 27/50\n",
      "50000/50000 [==============================] - 42s 836us/step - loss: 1.7656 - acc: 0.3582 - val_loss: 1.7344 - val_acc: 0.3965\n",
      "Epoch 28/50\n",
      "50000/50000 [==============================] - 29s 581us/step - loss: 1.7590 - acc: 0.3611 - val_loss: 1.7400 - val_acc: 0.4063\n",
      "Epoch 29/50\n",
      "50000/50000 [==============================] - 41s 830us/step - loss: 1.7543 - acc: 0.3630 - val_loss: 1.7160 - val_acc: 0.4078\n",
      "Epoch 30/50\n",
      "50000/50000 [==============================] - 29s 584us/step - loss: 1.7602 - acc: 0.3623 - val_loss: 1.7274 - val_acc: 0.3962\n",
      "Epoch 31/50\n",
      "50000/50000 [==============================] - 29s 581us/step - loss: 1.7467 - acc: 0.3667 - val_loss: 1.7140 - val_acc: 0.4186\n",
      "Epoch 32/50\n",
      "50000/50000 [==============================] - 29s 584us/step - loss: 1.7518 - acc: 0.3641 - val_loss: 1.7379 - val_acc: 0.4001\n",
      "Epoch 33/50\n",
      "50000/50000 [==============================] - 42s 840us/step - loss: 1.7436 - acc: 0.3682 - val_loss: 1.7422 - val_acc: 0.3927\n",
      "Epoch 34/50\n",
      "50000/50000 [==============================] - 42s 831us/step - loss: 1.7419 - acc: 0.3693 - val_loss: 1.7299 - val_acc: 0.4010\n",
      "Epoch 35/50\n",
      "50000/50000 [==============================] - 29s 585us/step - loss: 1.7394 - acc: 0.3699 - val_loss: 1.7108 - val_acc: 0.4015\n",
      "Epoch 36/50\n",
      "50000/50000 [==============================] - 32s 643us/step - loss: 1.7348 - acc: 0.3678 - val_loss: 1.6958 - val_acc: 0.4112\n",
      "Epoch 37/50\n",
      "50000/50000 [==============================] - 30s 610us/step - loss: 1.7335 - acc: 0.3690 - val_loss: 1.7494 - val_acc: 0.3990\n",
      "Epoch 38/50\n",
      "50000/50000 [==============================] - 40s 805us/step - loss: 1.7333 - acc: 0.3714 - val_loss: 1.7058 - val_acc: 0.4090\n",
      "Epoch 39/50\n",
      "50000/50000 [==============================] - 41s 811us/step - loss: 1.7476 - acc: 0.3638 - val_loss: 1.7084 - val_acc: 0.4116\n",
      "Epoch 40/50\n",
      "50000/50000 [==============================] - 27s 546us/step - loss: 1.7217 - acc: 0.3744 - val_loss: 1.6865 - val_acc: 0.3992\n",
      "Epoch 41/50\n",
      "50000/50000 [==============================] - 27s 547us/step - loss: 1.7264 - acc: 0.3715 - val_loss: 1.7219 - val_acc: 0.4088\n",
      "Epoch 42/50\n",
      "50000/50000 [==============================] - 35s 697us/step - loss: 1.7225 - acc: 0.3741 - val_loss: 1.7269 - val_acc: 0.4016\n",
      "Epoch 43/50\n"
     ]
    },
    {
     "name": "stdout",
     "output_type": "stream",
     "text": [
      "50000/50000 [==============================] - 32s 643us/step - loss: 1.7243 - acc: 0.3744 - val_loss: 1.6899 - val_acc: 0.4123\n",
      "Epoch 44/50\n",
      "50000/50000 [==============================] - 32s 637us/step - loss: 1.7113 - acc: 0.3804 - val_loss: 1.7128 - val_acc: 0.4069\n",
      "Epoch 45/50\n",
      "50000/50000 [==============================] - 36s 712us/step - loss: 1.7162 - acc: 0.3776 - val_loss: 1.6587 - val_acc: 0.4239\n",
      "Epoch 46/50\n",
      "50000/50000 [==============================] - 28s 561us/step - loss: 1.7226 - acc: 0.3765 - val_loss: 1.7333 - val_acc: 0.4002\n",
      "Epoch 47/50\n",
      "50000/50000 [==============================] - 32s 646us/step - loss: 1.7109 - acc: 0.3800 - val_loss: 1.7214 - val_acc: 0.3985\n",
      "Epoch 48/50\n",
      "50000/50000 [==============================] - 28s 558us/step - loss: 1.7072 - acc: 0.3850 - val_loss: 1.6887 - val_acc: 0.4218\n",
      "Epoch 49/50\n",
      "50000/50000 [==============================] - 29s 570us/step - loss: 1.7187 - acc: 0.3763 - val_loss: 1.6627 - val_acc: 0.4266\n",
      "Epoch 50/50\n",
      "50000/50000 [==============================] - 41s 827us/step - loss: 1.7009 - acc: 0.3814 - val_loss: 1.6787 - val_acc: 0.4124\n"
     ]
    }
   ],
   "source": [
    "model = build_mlp(input_shape=x_train.shape[1:], drp_ratio=Dropout_EXP)\n",
    "model.summary()\n",
    "\n",
    "# optimizer = keras.optimizers.SGD(lr=LEARNING_RATE, nesterov=True, momentum=MOMENTUM)\n",
    "# model.compile(loss=\"categorical_crossentropy\", metrics=[\"accuracy\"], optimizer=optimizer)\n",
    "\n",
    "model.compile(loss=\"categorical_crossentropy\", metrics=[\"accuracy\"], optimizer='Adam')\n",
    "\n",
    "model.fit(x_train, y_train, \n",
    "          epochs=EPOCHS, \n",
    "          batch_size=BATCH_SIZE, \n",
    "          validation_data=(x_test, y_test), \n",
    "          shuffle=True)\n",
    "\n",
    "# Collect results\n",
    "train_loss = model.history.history[\"loss\"]\n",
    "valid_loss = model.history.history[\"val_loss\"]\n",
    "train_acc = model.history.history[\"acc\"]\n",
    "valid_acc = model.history.history[\"val_acc\"]"
   ]
  },
  {
   "cell_type": "code",
   "execution_count": 8,
   "metadata": {},
   "outputs": [
    {
     "data": {
      "image/png": "[encoded data removed]",
      "text/plain": [
       "<Figure size 432x288 with 1 Axes>"
      ]
     },
     "metadata": {
      "needs_background": "light"
     },
     "output_type": "display_data"
    },
    {
     "data": {
      "image/png": "[encoded data removed]",
      "text/plain": [
       "<Figure size 432x288 with 1 Axes>"
      ]
     },
     "metadata": {
      "needs_background": "light"
     },
     "output_type": "display_data"
    }
   ],
   "source": [
    "import matplotlib.pyplot as plt\n",
    "%matplotlib inline\n",
    "\n",
    "plt.plot(range(len(train_loss)), train_loss, label=\"train loss\")\n",
    "plt.plot(range(len(valid_loss)), valid_loss, label=\"valid loss\")\n",
    "plt.legend()\n",
    "plt.title(\"Loss\")\n",
    "plt.show()\n",
    "\n",
    "plt.plot(range(len(train_acc)), train_acc, label=\"train accuracy\")\n",
    "plt.plot(range(len(valid_acc)), valid_acc, label=\"valid accuracy\")\n",
    "plt.legend()\n",
    "plt.title(\"Accuracy\")\n",
    "plt.show()"
   ]
  },
  {
   "cell_type": "code",
   "execution_count": null,
   "metadata": {},
   "outputs": [],
   "source": []
  }
 ],
 "metadata": {
  "kernelspec": {
   "display_name": "Python 3",
   "language": "python",
   "name": "python3"
  },
  "language_info": {
   "codemirror_mode": {
    "name": "ipython",
    "version": 3
   },
   "file_extension": ".py",
   "mimetype": "text/x-python",
   "name": "python",
   "nbconvert_exporter": "python",
   "pygments_lexer": "ipython3",
   "version": "3.7.3"
  }
 },
 "nbformat": 4,
 "nbformat_minor": 2
}
