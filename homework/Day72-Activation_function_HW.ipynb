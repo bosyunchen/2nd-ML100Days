{
 "cells": [
  {
   "cell_type": "markdown",
   "metadata": {},
   "source": [
    "# 作業目標:\n",
    "    寫出 ReLU & dReLU 一階導數\n",
    "    並列印\n"
   ]
  },
  {
   "cell_type": "markdown",
   "metadata": {},
   "source": [
    "# 作業重點\n",
    "\n",
    "# Rectified Linear Unit- Relu \n",
    "\n",
    "f(x)=max(0,x)\n"
   ]
  },
  {
   "cell_type": "code",
   "execution_count": 1,
   "metadata": {},
   "outputs": [
    {
     "data": {
      "text/plain": [
       "'\\n作業:\\n    寫出 ReLU & dReLU 一階導數\\n    並列印\\n'"
      ]
     },
     "execution_count": 1,
     "metadata": {},
     "output_type": "execute_result"
    }
   ],
   "source": [
    "import numpy as np\n",
    "from numpy import *\n",
    "import matplotlib.pylab as plt\n",
    "%matplotlib inline\n",
    "\n",
    "'''\n",
    "作業:\n",
    "    寫出 ReLU & dReLU 一階導數\n",
    "    並列印\n",
    "'''"
   ]
  },
  {
   "cell_type": "code",
   "execution_count": 2,
   "metadata": {},
   "outputs": [
    {
     "data": {
      "image/png": "[encoded data removed]",
      "text/plain": [
       "<Figure size 720x288 with 2 Axes>"
      ]
     },
     "metadata": {
      "needs_background": "light"
     },
     "output_type": "display_data"
    }
   ],
   "source": [
    "#relu 數學函數表示方式\n",
    "#relu = lambda x: abs(x) * (x > 0)\n",
    "def relu(x):\n",
    "    return abs(x) * (x > 0)\n",
    "\n",
    "#relu 微分\n",
    "def drelu(x):\n",
    "    return (1 * (x > 0))\n",
    "\n",
    "# linespace generate an array from start and stop value\n",
    "# with requested number of elements. Example 10 elements or 100 elements.\n",
    "x = plt.linspace(-10,10,100)\n",
    "\n",
    "# 畫出1 * 2的圖表\n",
    "f, axs = plt.subplots(1,2, figsize=(10, 4))\n",
    "\n",
    "# 畫出 relu 的示意圖\n",
    "axs[0].plot(x, relu(x), 'b', label='linspace(-10,10,10)')\n",
    "axs[0].text(3, 0.8, r'relu(x)=max(0,x)', fontsize=13) # 顯現 the Relu formula\n",
    "axs[0].title.set_text('Relu Function')\n",
    "axs[0].grid() # Draw the grid line in background.\n",
    "\n",
    "\n",
    "axs[1].plot(x, drelu(x), 'b', label='linspace(-10,10,10)')\n",
    "axs[1].text(2, 0.8, r'drelu(x)=1 * (x > 0)', fontsize=13) # 顯現 the Relu formula\n",
    "axs[1].title.set_text('Relu Differentiation Function')\n",
    "axs[1].grid() # Draw the grid line in background.\n",
    " \n",
    "# create the graph\n",
    "plt.show()"
   ]
  },
  {
   "cell_type": "code",
   "execution_count": null,
   "metadata": {},
   "outputs": [],
   "source": []
  }
 ],
 "metadata": {
  "kernelspec": {
   "display_name": "Python 3",
   "language": "python",
   "name": "python3"
  },
  "language_info": {
   "codemirror_mode": {
    "name": "ipython",
    "version": 3
   },
   "file_extension": ".py",
   "mimetype": "text/x-python",
   "name": "python",
   "nbconvert_exporter": "python",
   "pygments_lexer": "ipython3",
   "version": "3.7.3"
  }
 },
 "nbformat": 4,
 "nbformat_minor": 2
}
