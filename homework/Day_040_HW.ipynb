{
 "cells": [
  {
   "cell_type": "markdown",
   "metadata": {},
   "source": [
    "## [作業重點]\n",
    "使用 Sklearn 中的 Lasso, Ridge 模型，來訓練各種資料集，務必了解送進去模型訓練的**資料型態**為何，也請了解模型中各項參數的意義。\n",
    "\n",
    "機器學習的模型非常多種，但要訓練的資料多半有固定的格式，確保你了解訓練資料的格式為何，這樣在應用新模型時，就能夠最快的上手開始訓練！"
   ]
  },
  {
   "cell_type": "markdown",
   "metadata": {},
   "source": [
    "## 練習時間\n",
    "試著使用 sklearn datasets 的其他資料集 (boston, ...)，來訓練自己的線性迴歸模型，並加上適當的正則話來觀察訓練情形。"
   ]
  },
  {
   "cell_type": "code",
   "execution_count": 1,
   "metadata": {},
   "outputs": [],
   "source": [
    "import numpy as np\n",
    "from sklearn import datasets, linear_model\n",
    "from sklearn.model_selection import train_test_split\n",
    "from sklearn.metrics import mean_squared_error"
   ]
  },
  {
   "cell_type": "code",
   "execution_count": 2,
   "metadata": {},
   "outputs": [],
   "source": [
    "# download Boston data\n",
    "Boston = datasets.load_boston()\n",
    "\n",
    "# split data\n",
    "X_train, X_test, y_train, y_test = train_test_split(Boston.data, Boston.target, test_size=0.2, random_state=2019)"
   ]
  },
  {
   "cell_type": "code",
   "execution_count": 3,
   "metadata": {},
   "outputs": [
    {
     "name": "stdout",
     "output_type": "stream",
     "text": [
      "[-1.39521123e-01  4.17817156e-02 -4.57312740e-03  3.78506106e+00\n",
      " -1.46255552e+01  4.52548061e+00  1.49683102e-04 -1.38217694e+00\n",
      "  2.78132923e-01 -1.03183306e-02 -8.42539713e-01  1.05460752e-02\n",
      " -5.19900681e-01]\n",
      "Mean Square Error of linear regression model:  26.20274818042419\n"
     ]
    }
   ],
   "source": [
    "# fit a regression model\n",
    "regr = linear_model.LinearRegression()\n",
    "regr.fit(X_train, y_train)\n",
    "\n",
    "# predict y\n",
    "y_pred = regr.predict(X_test)\n",
    "\n",
    "# coefficient\n",
    "print(regr.coef_)\n",
    "\n",
    "# MSE\n",
    "print('Mean Square Error of linear regression model: ', mean_squared_error(y_test, y_pred))"
   ]
  },
  {
   "cell_type": "code",
   "execution_count": 4,
   "metadata": {},
   "outputs": [
    {
     "name": "stdout",
     "output_type": "stream",
     "text": [
      "[-0.11491654  0.04752104 -0.02288358  0.         -0.          2.8919587\n",
      "  0.01238544 -0.91084722  0.26862634 -0.01420751 -0.70645695  0.00990493\n",
      " -0.67158533]\n"
     ]
    }
   ],
   "source": [
    "# fit a LASSO model\n",
    "lasso = linear_model.Lasso(alpha=0.5)\n",
    "lasso.fit(X_train, y_train)\n",
    "\n",
    "# predict y\n",
    "y_pred = lasso.predict(X_test)\n",
    "\n",
    "# coefficient\n",
    "print(lasso.coef_)"
   ]
  },
  {
   "cell_type": "code",
   "execution_count": 5,
   "metadata": {},
   "outputs": [
    {
     "name": "stdout",
     "output_type": "stream",
     "text": [
      "Mean Square Error of Lasso model:  24.53582540136321\n"
     ]
    }
   ],
   "source": [
    "# MSE\n",
    "print('Mean Square Error of Lasso model: ', mean_squared_error(y_test, y_pred))"
   ]
  },
  {
   "cell_type": "code",
   "execution_count": 6,
   "metadata": {},
   "outputs": [
    {
     "name": "stdout",
     "output_type": "stream",
     "text": [
      "[-1.38493409e-01  4.23511056e-02 -1.62201592e-02  3.74578935e+00\n",
      " -1.18561767e+01  4.54149024e+00 -2.21224097e-03 -1.34309164e+00\n",
      "  2.71275011e-01 -1.05236449e-02 -8.10250918e-01  1.06103119e-02\n",
      " -5.23688728e-01]\n",
      "Mean Square Error of Ridge Regression Model:  26.453058481760905\n"
     ]
    }
   ],
   "source": [
    "# fit a Ridge Regression model\n",
    "ridge = linear_model.Ridge(alpha=0.3)\n",
    "ridge.fit(X_train, y_train)\n",
    "\n",
    "# predict y\n",
    "y_pred = ridge.predict(X_test)\n",
    "\n",
    "# coefficient\n",
    "print(ridge.coef_)\n",
    "\n",
    "# MSE\n",
    "print('Mean Square Error of Ridge Regression Model: ', mean_squared_error(y_test, y_pred))"
   ]
  },
  {
   "cell_type": "code",
   "execution_count": null,
   "metadata": {},
   "outputs": [],
   "source": []
  }
 ],
 "metadata": {
  "kernelspec": {
   "display_name": "Python 3",
   "language": "python",
   "name": "python3"
  },
  "language_info": {
   "codemirror_mode": {
    "name": "ipython",
    "version": 3
   },
   "file_extension": ".py",
   "mimetype": "text/x-python",
   "name": "python",
   "nbconvert_exporter": "python",
   "pygments_lexer": "ipython3",
   "version": "3.7.3"
  }
 },
 "nbformat": 4,
 "nbformat_minor": 2
}
